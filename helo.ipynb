{
 "cells": [
  {
   "cell_type": "code",
   "execution_count": 5,
   "id": "initial_id",
   "metadata": {
    "collapsed": true,
    "ExecuteTime": {
     "end_time": "2024-02-12T14:53:21.091207791Z",
     "start_time": "2024-02-12T14:53:21.040239971Z"
    }
   },
   "outputs": [
    {
     "data": {
      "text/plain": "8"
     },
     "execution_count": 5,
     "metadata": {},
     "output_type": "execute_result"
    }
   ],
   "source": [
    "def lesser_of_two_evens(a,b):\n",
    "    if a%2 == 0 and b%2 == 0:\n",
    "        #Both numbers are even\n",
    "        return min(a,b)\n",
    "    else:\n",
    "        #ONE OR BOTH NUMBERS ARE ODD\n",
    "        return max(a,b)\n",
    "lesser_of_two_evens(12,8)\n",
    "\n",
    "            "
   ]
  },
  {
   "cell_type": "code",
   "outputs": [
    {
     "data": {
      "text/plain": "11"
     },
     "execution_count": 6,
     "metadata": {},
     "output_type": "execute_result"
    }
   ],
   "source": [
    "lesser_of_two_evens(5,11)"
   ],
   "metadata": {
    "collapsed": false,
    "ExecuteTime": {
     "end_time": "2024-02-12T14:53:24.330050627Z",
     "start_time": "2024-02-12T14:53:24.286455492Z"
    }
   },
   "id": "49d08d648b6029ec",
   "execution_count": 6
  },
  {
   "cell_type": "code",
   "outputs": [
    {
     "name": "stdout",
     "output_type": "stream",
     "text": [
      "['hello', 'world']\n"
     ]
    },
    {
     "data": {
      "text/plain": "False"
     },
     "execution_count": 9,
     "metadata": {},
     "output_type": "execute_result"
    }
   ],
   "source": [
    "def animal_craker(text):\n",
    "    wordlist = text.lower().split()\n",
    "    print(wordlist)\n",
    "    \n",
    "    return  wordlist[0][0] == wordlist[1][0]\n",
    "#CHECK\n",
    "animal_craker('hello world')"
   ],
   "metadata": {
    "collapsed": false,
    "ExecuteTime": {
     "end_time": "2024-02-12T15:00:16.228285816Z",
     "start_time": "2024-02-12T15:00:16.176368295Z"
    }
   },
   "id": "d463764a4013bf4",
   "execution_count": 9
  },
  {
   "cell_type": "code",
   "outputs": [
    {
     "name": "stdout",
     "output_type": "stream",
     "text": [
      "['hello', 'hawaii']\n"
     ]
    },
    {
     "data": {
      "text/plain": "True"
     },
     "execution_count": 10,
     "metadata": {},
     "output_type": "execute_result"
    }
   ],
   "source": [
    "animal_craker('hello hawaii')"
   ],
   "metadata": {
    "collapsed": false,
    "ExecuteTime": {
     "end_time": "2024-02-12T15:00:19.527201850Z",
     "start_time": "2024-02-12T15:00:19.511520158Z"
    }
   },
   "id": "d44914d5bad9e3a",
   "execution_count": 10
  },
  {
   "cell_type": "code",
   "outputs": [
    {
     "data": {
      "text/plain": "True"
     },
     "execution_count": 17,
     "metadata": {},
     "output_type": "execute_result"
    }
   ],
   "source": [
    "def makes_twenty_five(num1,num2):\n",
    "    \n",
    "    return (num1+num2)==25 or num1==25 or num2==25\n",
    "    \n",
    "   \n",
    "makes_twenty_five(15,10)    "
   ],
   "metadata": {
    "collapsed": false,
    "ExecuteTime": {
     "end_time": "2024-02-12T15:10:11.982447517Z",
     "start_time": "2024-02-12T15:10:11.929717169Z"
    }
   },
   "id": "b517ce17e02611d",
   "execution_count": 17
  },
  {
   "cell_type": "code",
   "outputs": [
    {
     "data": {
      "text/plain": "True"
     },
     "execution_count": 18,
     "metadata": {},
     "output_type": "execute_result"
    }
   ],
   "source": [
    "makes_twenty_five(25,10)"
   ],
   "metadata": {
    "collapsed": false,
    "ExecuteTime": {
     "end_time": "2024-02-12T15:10:14.176138096Z",
     "start_time": "2024-02-12T15:10:14.156959528Z"
    }
   },
   "id": "db279989ec4da06b",
   "execution_count": 18
  },
  {
   "cell_type": "code",
   "outputs": [
    {
     "data": {
      "text/plain": "'MacDonald'"
     },
     "execution_count": 24,
     "metadata": {},
     "output_type": "execute_result"
    }
   ],
   "source": [
    "def old_macdonald(name):\n",
    "    \n",
    "    first_half = name[:3]\n",
    "    second_half = name [3:]\n",
    "    return first_half.capitalize() + second_half.capitalize()\n",
    "#CHECK\n",
    "old_macdonald('macdonald')\n",
    "    "
   ],
   "metadata": {
    "collapsed": false,
    "ExecuteTime": {
     "end_time": "2024-02-12T15:24:18.504913912Z",
     "start_time": "2024-02-12T15:24:18.458761444Z"
    }
   },
   "id": "324f7350bbaa0120",
   "execution_count": 24
  },
  {
   "cell_type": "code",
   "outputs": [
    {
     "data": {
      "text/plain": "'felix home welcome'"
     },
     "execution_count": 5,
     "metadata": {},
     "output_type": "execute_result"
    }
   ],
   "source": [
    "def master_yoda(text):\n",
    "    wordlist = text.split()\n",
    "    reverse_wordlist = wordlist [: : -1]\n",
    "    return ' '.join(reverse_wordlist)\n",
    "#CHECK\n",
    "master_yoda('welcome home felix')\n",
    "    "
   ],
   "metadata": {
    "collapsed": false,
    "ExecuteTime": {
     "end_time": "2024-02-12T18:32:05.808710491Z",
     "start_time": "2024-02-12T18:32:05.748864760Z"
    }
   },
   "id": "8b51350257914740",
   "execution_count": 5
  },
  {
   "cell_type": "code",
   "outputs": [
    {
     "data": {
      "text/plain": "'abc'"
     },
     "execution_count": 3,
     "metadata": {},
     "output_type": "execute_result"
    }
   ],
   "source": [
    "my_list=[\"a\",\"b\",\"c\"]\n",
    "''.join(my_list)"
   ],
   "metadata": {
    "collapsed": false,
    "ExecuteTime": {
     "end_time": "2024-02-12T18:28:46.658111924Z",
     "start_time": "2024-02-12T18:28:46.599503408Z"
    }
   },
   "id": "2b6e30984c72aef6",
   "execution_count": 3
  },
  {
   "cell_type": "code",
   "outputs": [
    {
     "data": {
      "text/plain": "False"
     },
     "execution_count": 9,
     "metadata": {},
     "output_type": "execute_result"
    }
   ],
   "source": [
    "def has_33(nums):\n",
    "    for i in range(0,len(nums)-1):\n",
    "        if nums[i:i+2] == [3,3]:\n",
    "            return True\n",
    "        \n",
    "    return False\n",
    "has_33([1,3,1,3])"
   ],
   "metadata": {
    "collapsed": false,
    "ExecuteTime": {
     "end_time": "2024-02-13T02:57:35.968411062Z",
     "start_time": "2024-02-13T02:57:35.930878Z"
    }
   },
   "id": "b52019ebaebbe9ad",
   "execution_count": 9
  },
  {
   "cell_type": "code",
   "outputs": [
    {
     "data": {
      "text/plain": "True"
     },
     "execution_count": 10,
     "metadata": {},
     "output_type": "execute_result"
    }
   ],
   "source": [
    "has_33([1,3,3])"
   ],
   "metadata": {
    "collapsed": false,
    "ExecuteTime": {
     "end_time": "2024-02-13T02:57:37.179806429Z",
     "start_time": "2024-02-13T02:57:37.157719370Z"
    }
   },
   "id": "e0c92c7dd7871db9",
   "execution_count": 10
  },
  {
   "cell_type": "code",
   "outputs": [
    {
     "data": {
      "text/plain": "'MMMiiissssssyyy'"
     },
     "execution_count": 11,
     "metadata": {},
     "output_type": "execute_result"
    }
   ],
   "source": [
    "def paper_doll(text):\n",
    "    result = ''\n",
    "    \n",
    "    for char in text:\n",
    "        result += char*3\n",
    "    return result\n",
    "paper_doll('Missy')"
   ],
   "metadata": {
    "collapsed": false,
    "ExecuteTime": {
     "end_time": "2024-02-13T03:00:59.380520102Z",
     "start_time": "2024-02-13T03:00:59.333707047Z"
    }
   },
   "id": "446ed7608b3aec53",
   "execution_count": 11
  },
  {
   "cell_type": "code",
   "outputs": [
    {
     "data": {
      "text/plain": "21"
     },
     "execution_count": 20,
     "metadata": {},
     "output_type": "execute_result"
    }
   ],
   "source": [
    "def blackjack(a,b,c):\n",
    "    if sum([a,b,c]) <= 21:\n",
    "        return sum([a,b,c])\n",
    "    elif 11 in (a,b,c) and  sum([a,b,c])>= 31:\n",
    "        return sum([a,b,c])-10\n",
    "    else:\n",
    "        return \"BUST\"\n",
    "        \n",
    "blackjack(7,5,9)"
   ],
   "metadata": {
    "collapsed": false,
    "ExecuteTime": {
     "end_time": "2024-02-13T03:16:36.824348298Z",
     "start_time": "2024-02-13T03:16:36.797090886Z"
    }
   },
   "id": "35d55c864aa2f9b0",
   "execution_count": 20
  },
  {
   "cell_type": "code",
   "outputs": [
    {
     "data": {
      "text/plain": "18"
     },
     "execution_count": 21,
     "metadata": {},
     "output_type": "execute_result"
    }
   ],
   "source": [
    "blackjack(11,2,5)"
   ],
   "metadata": {
    "collapsed": false,
    "ExecuteTime": {
     "end_time": "2024-02-13T03:16:37.910969502Z",
     "start_time": "2024-02-13T03:16:37.861316531Z"
    }
   },
   "id": "a9b67d93f6bebee8",
   "execution_count": 21
  },
  {
   "cell_type": "code",
   "outputs": [
    {
     "data": {
      "text/plain": "'BUST'"
     },
     "execution_count": 22,
     "metadata": {},
     "output_type": "execute_result"
    }
   ],
   "source": [
    "blackjack(23,54,21)"
   ],
   "metadata": {
    "collapsed": false,
    "ExecuteTime": {
     "end_time": "2024-02-13T03:16:39.189457386Z",
     "start_time": "2024-02-13T03:16:39.169710765Z"
    }
   },
   "id": "e588b7e78c48f324",
   "execution_count": 22
  },
  {
   "cell_type": "code",
   "outputs": [
    {
     "data": {
      "text/plain": "'BUST'"
     },
     "execution_count": 23,
     "metadata": {},
     "output_type": "execute_result"
    }
   ],
   "source": [
    "blackjack(9,5,9)"
   ],
   "metadata": {
    "collapsed": false,
    "ExecuteTime": {
     "end_time": "2024-02-13T03:16:45.719049390Z",
     "start_time": "2024-02-13T03:16:45.695209918Z"
    }
   },
   "id": "4fe2d66e9c0db603",
   "execution_count": 23
  },
  {
   "cell_type": "code",
   "outputs": [
    {
     "name": "stdout",
     "output_type": "stream",
     "text": [
      "our neighbour named his dog Bob , his a german shepherd and lastly he's blacl in color\n"
     ]
    }
   ],
   "source": [
    "#OOP\n",
    "class Dog:\n",
    "    \n",
    "    def __init__(self,name,breed,color):\n",
    "        self.name=name\n",
    "        self.breed=breed\n",
    "        self.color=color\n",
    "    def describe_dog(self):\n",
    "        print(f\"our neighbour named his dog {self.name} , his a {self.breed} and lastly he's {self.color} in color\")\n",
    "        \n",
    "myobj=Dog(\"Bob\",\"german shepherd\",\"black\")\n",
    "myobj.describe_dog()"
   ],
   "metadata": {
    "collapsed": false,
    "ExecuteTime": {
     "end_time": "2024-02-13T03:28:05.464483531Z",
     "start_time": "2024-02-13T03:28:05.442745528Z"
    }
   },
   "id": "33cf2ecac3329691",
   "execution_count": 24
  },
  {
   "cell_type": "code",
   "outputs": [
    {
     "name": "stdout",
     "output_type": "stream",
     "text": [
      "beauty by gatehi\n"
     ]
    }
   ],
   "source": [
    "class Books():\n",
    "    \n",
    "    def __init__(self,title,author,pages):\n",
    "        self.title=title\n",
    "        self.author=author\n",
    "        self.pages= pages\n",
    "    def __str__(self):\n",
    "        return f\"{self.title} by {self.author}\"\n",
    "    def __len__(self):\n",
    "        return self.pages\n",
    "book1=Books(\"beauty\",\"gatehi\",219)\n",
    "print(book1)"
   ],
   "metadata": {
    "collapsed": false,
    "ExecuteTime": {
     "end_time": "2024-02-13T06:39:11.027740335Z",
     "start_time": "2024-02-13T06:39:10.974973622Z"
    }
   },
   "id": "9630ed9a09a02bbf",
   "execution_count": 3
  },
  {
   "cell_type": "code",
   "outputs": [
    {
     "data": {
      "text/plain": "219"
     },
     "execution_count": 4,
     "metadata": {},
     "output_type": "execute_result"
    }
   ],
   "source": [
    "len(book1)"
   ],
   "metadata": {
    "collapsed": false,
    "ExecuteTime": {
     "end_time": "2024-02-13T06:39:35.758021898Z",
     "start_time": "2024-02-13T06:39:35.721594621Z"
    }
   },
   "id": "3b7a429f1cb7495e",
   "execution_count": 4
  },
  {
   "cell_type": "code",
   "outputs": [],
   "source": [],
   "metadata": {
    "collapsed": false
   },
   "id": "901079d6e3bad266"
  }
 ],
 "metadata": {
  "kernelspec": {
   "display_name": "Python 3",
   "language": "python",
   "name": "python3"
  },
  "language_info": {
   "codemirror_mode": {
    "name": "ipython",
    "version": 2
   },
   "file_extension": ".py",
   "mimetype": "text/x-python",
   "name": "python",
   "nbconvert_exporter": "python",
   "pygments_lexer": "ipython2",
   "version": "2.7.6"
  }
 },
 "nbformat": 4,
 "nbformat_minor": 5
}
